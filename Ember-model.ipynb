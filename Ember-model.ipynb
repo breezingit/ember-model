{
 "cells": [
  {
   "cell_type": "code",
   "execution_count": 3,
   "id": "fe104e9e",
   "metadata": {},
   "outputs": [
    {
     "name": "stdout",
     "output_type": "stream",
     "text": [
      "Defaulting to user installation because normal site-packages is not writeable\n",
      "Requirement already satisfied: seaborn in /home/breezin/.local/lib/python3.10/site-packages (0.12.2)\n",
      "Requirement already satisfied: pandas>=0.25 in /home/breezin/.local/lib/python3.10/site-packages (from seaborn) (2.0.1)\n",
      "Requirement already satisfied: matplotlib!=3.6.1,>=3.1 in /home/breezin/.local/lib/python3.10/site-packages (from seaborn) (3.7.1)\n",
      "Requirement already satisfied: numpy!=1.24.0,>=1.17 in /home/breezin/.local/lib/python3.10/site-packages (from seaborn) (1.23.5)\n",
      "Requirement already satisfied: pillow>=6.2.0 in /usr/lib/python3.10/site-packages (from matplotlib!=3.6.1,>=3.1->seaborn) (9.4.0)\n",
      "Requirement already satisfied: cycler>=0.10 in /home/breezin/.local/lib/python3.10/site-packages (from matplotlib!=3.6.1,>=3.1->seaborn) (0.11.0)\n",
      "Requirement already satisfied: fonttools>=4.22.0 in /home/breezin/.local/lib/python3.10/site-packages (from matplotlib!=3.6.1,>=3.1->seaborn) (4.40.0)\n",
      "Requirement already satisfied: python-dateutil>=2.7 in /usr/lib/python3.10/site-packages (from matplotlib!=3.6.1,>=3.1->seaborn) (2.8.2)\n",
      "Requirement already satisfied: pyparsing>=2.3.1 in /usr/lib/python3.10/site-packages (from matplotlib!=3.6.1,>=3.1->seaborn) (3.0.9)\n",
      "Requirement already satisfied: kiwisolver>=1.0.1 in /home/breezin/.local/lib/python3.10/site-packages (from matplotlib!=3.6.1,>=3.1->seaborn) (1.4.4)\n",
      "Requirement already satisfied: contourpy>=1.0.1 in /home/breezin/.local/lib/python3.10/site-packages (from matplotlib!=3.6.1,>=3.1->seaborn) (1.1.0)\n",
      "Requirement already satisfied: packaging>=20.0 in /usr/lib/python3.10/site-packages (from matplotlib!=3.6.1,>=3.1->seaborn) (23.0)\n",
      "Requirement already satisfied: pytz>=2020.1 in /usr/lib/python3.10/site-packages (from pandas>=0.25->seaborn) (2022.7.1)\n",
      "Requirement already satisfied: tzdata>=2022.1 in /home/breezin/.local/lib/python3.10/site-packages (from pandas>=0.25->seaborn) (2023.3)\n",
      "Requirement already satisfied: six>=1.5 in /usr/lib/python3.10/site-packages (from python-dateutil>=2.7->matplotlib!=3.6.1,>=3.1->seaborn) (1.16.0)\n",
      "Defaulting to user installation because normal site-packages is not writeable\n",
      "Requirement already satisfied: tensorflow in /home/breezin/.local/lib/python3.10/site-packages (2.12.0)\n",
      "Requirement already satisfied: tensorflow-estimator<2.13,>=2.12.0 in /home/breezin/.local/lib/python3.10/site-packages (from tensorflow) (2.12.0)\n",
      "Requirement already satisfied: h5py>=2.9.0 in /home/breezin/.local/lib/python3.10/site-packages (from tensorflow) (3.9.0)\n",
      "Requirement already satisfied: grpcio<2.0,>=1.24.3 in /home/breezin/.local/lib/python3.10/site-packages (from tensorflow) (1.56.0)\n",
      "Requirement already satisfied: google-pasta>=0.1.1 in /home/breezin/.local/lib/python3.10/site-packages (from tensorflow) (0.2.0)\n",
      "Requirement already satisfied: keras<2.13,>=2.12.0 in /home/breezin/.local/lib/python3.10/site-packages (from tensorflow) (2.12.0)\n",
      "Requirement already satisfied: gast<=0.4.0,>=0.2.1 in /home/breezin/.local/lib/python3.10/site-packages (from tensorflow) (0.4.0)\n",
      "Requirement already satisfied: numpy<1.24,>=1.22 in /home/breezin/.local/lib/python3.10/site-packages (from tensorflow) (1.23.5)\n",
      "Requirement already satisfied: termcolor>=1.1.0 in /home/breezin/.local/lib/python3.10/site-packages (from tensorflow) (2.3.0)\n",
      "Requirement already satisfied: opt-einsum>=2.3.2 in /home/breezin/.local/lib/python3.10/site-packages (from tensorflow) (3.3.0)\n",
      "Requirement already satisfied: flatbuffers>=2.0 in /home/breezin/.local/lib/python3.10/site-packages (from tensorflow) (23.5.26)\n",
      "Requirement already satisfied: jax>=0.3.15 in /home/breezin/.local/lib/python3.10/site-packages (from tensorflow) (0.4.13)\n",
      "Requirement already satisfied: astunparse>=1.6.0 in /home/breezin/.local/lib/python3.10/site-packages (from tensorflow) (1.6.3)\n",
      "Requirement already satisfied: tensorboard<2.13,>=2.12 in /home/breezin/.local/lib/python3.10/site-packages (from tensorflow) (2.12.3)\n",
      "Requirement already satisfied: libclang>=13.0.0 in /home/breezin/.local/lib/python3.10/site-packages (from tensorflow) (16.0.0)\n",
      "Requirement already satisfied: six>=1.12.0 in /usr/lib/python3.10/site-packages (from tensorflow) (1.16.0)\n",
      "Requirement already satisfied: protobuf!=4.21.0,!=4.21.1,!=4.21.2,!=4.21.3,!=4.21.4,!=4.21.5,<5.0.0dev,>=3.20.3 in /home/breezin/.local/lib/python3.10/site-packages (from tensorflow) (3.20.3)\n",
      "Requirement already satisfied: absl-py>=1.0.0 in /home/breezin/.local/lib/python3.10/site-packages (from tensorflow) (1.4.0)\n",
      "Requirement already satisfied: typing-extensions>=3.6.6 in /usr/lib/python3.10/site-packages (from tensorflow) (4.5.0)\n",
      "Requirement already satisfied: tensorflow-io-gcs-filesystem>=0.23.1 in /home/breezin/.local/lib/python3.10/site-packages (from tensorflow) (0.32.0)\n",
      "Requirement already satisfied: wrapt<1.15,>=1.11.0 in /home/breezin/.local/lib/python3.10/site-packages (from tensorflow) (1.14.1)\n",
      "Requirement already satisfied: packaging in /usr/lib/python3.10/site-packages (from tensorflow) (23.0)\n",
      "Requirement already satisfied: setuptools in /usr/lib/python3.10/site-packages (from tensorflow) (67.6.1)\n",
      "Requirement already satisfied: wheel<1.0,>=0.23.0 in /usr/lib/python3.10/site-packages (from astunparse>=1.6.0->tensorflow) (0.40.0)\n",
      "Requirement already satisfied: scipy>=1.7 in /home/breezin/.local/lib/python3.10/site-packages (from jax>=0.3.15->tensorflow) (1.10.1)\n",
      "Requirement already satisfied: ml-dtypes>=0.1.0 in /home/breezin/.local/lib/python3.10/site-packages (from jax>=0.3.15->tensorflow) (0.2.0)\n",
      "Requirement already satisfied: google-auth<3,>=1.6.3 in /home/breezin/.local/lib/python3.10/site-packages (from tensorboard<2.13,>=2.12->tensorflow) (2.21.0)\n",
      "Requirement already satisfied: tensorboard-data-server<0.8.0,>=0.7.0 in /home/breezin/.local/lib/python3.10/site-packages (from tensorboard<2.13,>=2.12->tensorflow) (0.7.1)\n",
      "Requirement already satisfied: werkzeug>=1.0.1 in /usr/lib/python3.10/site-packages (from tensorboard<2.13,>=2.12->tensorflow) (2.2.3)\n",
      "Requirement already satisfied: requests<3,>=2.21.0 in /usr/lib/python3.10/site-packages (from tensorboard<2.13,>=2.12->tensorflow) (2.28.2)\n",
      "Requirement already satisfied: markdown>=2.6.8 in /usr/lib/python3.10/site-packages (from tensorboard<2.13,>=2.12->tensorflow) (3.4.3)\n",
      "Requirement already satisfied: google-auth-oauthlib<1.1,>=0.5 in /home/breezin/.local/lib/python3.10/site-packages (from tensorboard<2.13,>=2.12->tensorflow) (1.0.0)\n",
      "Requirement already satisfied: pyasn1-modules>=0.2.1 in /home/breezin/.local/lib/python3.10/site-packages (from google-auth<3,>=1.6.3->tensorboard<2.13,>=2.12->tensorflow) (0.3.0)\n",
      "Requirement already satisfied: cachetools<6.0,>=2.0.0 in /home/breezin/.local/lib/python3.10/site-packages (from google-auth<3,>=1.6.3->tensorboard<2.13,>=2.12->tensorflow) (5.3.1)\n",
      "Requirement already satisfied: rsa<5,>=3.1.4 in /home/breezin/.local/lib/python3.10/site-packages (from google-auth<3,>=1.6.3->tensorboard<2.13,>=2.12->tensorflow) (4.9)\n",
      "Requirement already satisfied: urllib3<2.0 in /usr/lib/python3.10/site-packages (from google-auth<3,>=1.6.3->tensorboard<2.13,>=2.12->tensorflow) (1.26.13)\n",
      "Requirement already satisfied: requests-oauthlib>=0.7.0 in /home/breezin/.local/lib/python3.10/site-packages (from google-auth-oauthlib<1.1,>=0.5->tensorboard<2.13,>=2.12->tensorflow) (1.3.1)\n",
      "Requirement already satisfied: idna<4,>=2.5 in /usr/lib/python3.10/site-packages (from requests<3,>=2.21.0->tensorboard<2.13,>=2.12->tensorflow) (3.4)\n",
      "Requirement already satisfied: MarkupSafe>=2.1.1 in /usr/lib/python3.10/site-packages (from werkzeug>=1.0.1->tensorboard<2.13,>=2.12->tensorflow) (2.1.2)\n",
      "Requirement already satisfied: pyasn1<0.6.0,>=0.4.6 in /home/breezin/.local/lib/python3.10/site-packages (from pyasn1-modules>=0.2.1->google-auth<3,>=1.6.3->tensorboard<2.13,>=2.12->tensorflow) (0.5.0)\n",
      "Requirement already satisfied: oauthlib>=3.0.0 in /home/breezin/.local/lib/python3.10/site-packages (from requests-oauthlib>=0.7.0->google-auth-oauthlib<1.1,>=0.5->tensorboard<2.13,>=2.12->tensorflow) (3.2.2)\n",
      "Requirement already satisfied: platformdirs in /usr/lib/python3.10/site-packages (from setuptools->tensorflow) (3.2.0)\n",
      "Requirement already satisfied: jaraco.text in /usr/lib/python3.10/site-packages (from setuptools->tensorflow) (3.11.1)\n",
      "Requirement already satisfied: more-itertools in /usr/lib/python3.10/site-packages (from setuptools->tensorflow) (9.1.0)\n",
      "Requirement already satisfied: ordered-set in /usr/lib/python3.10/site-packages (from setuptools->tensorflow) (4.1.0)\n",
      "Requirement already satisfied: tomli in /usr/lib/python3.10/site-packages (from setuptools->tensorflow) (2.0.1)\n",
      "Requirement already satisfied: validate-pyproject in /usr/lib/python3.10/site-packages (from setuptools->tensorflow) (0.12.2.post1.dev0+g2940279.d20230328)\n",
      "Requirement already satisfied: jaraco.context>=4.1 in /usr/lib/python3.10/site-packages (from jaraco.text->setuptools->tensorflow) (4.3.0)\n",
      "Requirement already satisfied: inflect in /usr/lib/python3.10/site-packages (from jaraco.text->setuptools->tensorflow) (6.0.2)\n",
      "Requirement already satisfied: jaraco.functools in /usr/lib/python3.10/site-packages (from jaraco.text->setuptools->tensorflow) (3.6.0)\n",
      "Requirement already satisfied: autocommand in /usr/lib/python3.10/site-packages (from jaraco.text->setuptools->tensorflow) (2.2.2)\n"
     ]
    },
    {
     "name": "stdout",
     "output_type": "stream",
     "text": [
      "Requirement already satisfied: fastjsonschema<=3,>=2.16.2 in /usr/lib/python3.10/site-packages (from validate-pyproject->setuptools->tensorflow) (2.16.3)\n",
      "Requirement already satisfied: pydantic>=1.9.1 in /usr/lib/python3.10/site-packages (from inflect->jaraco.text->setuptools->tensorflow) (1.10.7)\n"
     ]
    }
   ],
   "source": [
    "import json\n",
    "import csv\n",
    "import pandas as pd\n",
    "import numpy as np\n",
    "from sklearn.preprocessing import StandardScaler\n",
    "from sklearn.preprocessing import LabelEncoder\n",
    "!pip install seaborn\n",
    "!pip install tensorflow"
   ]
  },
  {
   "cell_type": "markdown",
   "id": "fa180c42",
   "metadata": {},
   "source": [
    "\n",
    "- label: This feature indicates whether the file is labeled as benign (False) or malicious (True).\n",
    "- .textsize: This feature represents the size of the .text section in the PE file.\n",
    "- .textentropy: This feature represents the entropy of the .text section in the PE file.\n",
    "- .textvsize: This feature represents the virtual size of the .text section in the PE file.\n",
    "- .datasize: This feature represents the size of the .data section in the PE file.\n",
    "- .dataentropy: This feature represents the entropy of the .data section in the PE file.\n",
    "- .datavsize: This feature represents the virtual size of the .data section in the PE file.\n",
    "- .rsrcsize: This feature represents the size of the .rsrc section in the PE file.\n",
    "- .rsrcentropy: This feature represents the entropy of the .rsrc section in the PE file.\n",
    "- .rsrcvsize: This feature represents the virtual size of the .rsrc section in the PE file.\n",
    "- machine: This feature represents the type of machine for which the file is intended.\n",
    "- subsystem: This feature represents the target subsystem for the PE file.\n",
    "- generalsize: This feature represents the size of the general file information in the PE header.\n",
    "- generalvsize: This feature represents the virtual size of the general file information in the PE header.\n",
    "- generalhas_debug: This feature indicates whether the PE file has a debug section (True) or not (False).\n",
    "- generalexports: This feature represents the number of exported functions in the PE file.\n",
    "- generalimports: This feature represents the number of imported functions in the PE file.\n",
    "- generalhas_relocations: This feature indicates whether the PE file has relocation information (True) or not (False).\n",
    "- generalhas_resources: This feature indicates whether the PE file has resource information (True) or not (False).\n",
    "- generalhas_signature: This feature indicates whether the PE file has a digital signature (True) or not (False).\n",
    "- generalhas_tls: This feature indicates whether the PE file has thread local storage (TLS) information (True) or not (False).\n",
    "- generalsymbols: This feature represents the number of symbols in the PE file.\n",
    "- stringsnumstrings: This feature represents the number of printable strings in the PE file.\n",
    "- stringsavlength: This feature represents the average length of the printable strings in the PE file.\n",
    "- stringsprintabledist: This feature represents the histogram of printable characters within the printable strings.\n",
    "- stringsprintables: This feature indicates whether the PE file contains printable strings (True) or not (False).\n",
    "- stringsentropy: This feature represents the entropy of characters across all printable strings.\n",
    "- stringspaths: This feature represents the number of strings that begin with \"C:\\\" indicating paths.\n",
    "- stringsurls: This feature represents the number of strings that contain \"http://\" or \"https://\" indicating URLs.\n",
    "- stringsregistry: This feature represents the number of strings that contain \"HKEY_\" indicating registry keys.\n",
    "- stringsMZ: This feature represents the number of strings that contain \"MZ\" indicating Windows PE droppers or bundled executables.\n",
    "- cofftimestamp: This feature represents the timestamp in the COFF header of the PE file.\n",
    "- coffmachine: This feature represents the target machine for which the PE file is intended.\n",
    "- coffcharacteristics: This feature represents a list of image characteristics of the PE file.\n",
    "- optionalsubsystem: This feature represents the target subsystem specified in the optional header of the PE file.\n",
    "- optionaldll_characteristics: This feature represents a list of DLL characteristics of the PE file.\n",
    "- optionalmagic: This feature represents the magic value in the optional header of the PE file.\n",
    "- optionalmajor_image_version: This feature represents the major image version specified in the optional header of the PE file.\n",
    "- optionalminor_image_version: This feature represents the minor image version specified in the optional header of the PE file.\n",
    "- optionalmajor_linker_version: This feature represents the major linker version specified in the optional header of the PE file.\n",
    "- optionalminor_linker_version: This feature represents the minor linker version specified in the optional header of the PE file.\n",
    "- optionalmajor_operating_system_version: This feature represents the major operating system version specified in the optional header of the PE file.\n",
    "- optionalminor_operating_system_version: This feature represents the minor operating system version specified in the optional header of the PE file.\n",
    "- optionalmajor_subsystem_version: This feature represents the major subsystem version specified in the optional header of the PE file.\n",
    "- optionalminor_subsystem_version: This feature represents the minor subsystem version specified in the optional header of the PE file.\n",
    "- optionalsizeof_code: This feature represents the size of the code section specified in the optional header of the PE file.\n",
    "- optionalsizeof_headers: This feature represents the size of the headers specified in the optional header of the PE file.\n",
    "- optionalsizeof_heap_commit: This feature represents the size of the committed heap specified in the optional header of the PE file.\n"
   ]
  },
  {
   "cell_type": "code",
   "execution_count": null,
   "id": "5193a27e",
   "metadata": {},
   "outputs": [],
   "source": [
    "def load_dataset_from_jsonl(file_path):\n",
    "    dataset = []\n",
    "    \n",
    "    for i in range(1,3):\n",
    "        path= file_path + str(i) + '.jsonl'\n",
    "        with open(path, 'r') as file:\n",
    "            for line in file:\n",
    "                data = json.loads(line)\n",
    "                dataset.append(data)\n",
    "    return dataset\n",
    "\n",
    "file_path = 'ember/train_features_'\n",
    "\n",
    "dataset = load_dataset_from_jsonl(file_path)\n",
    "\n"
   ]
  },
  {
   "cell_type": "code",
   "execution_count": null,
   "id": "2308ce9b",
   "metadata": {},
   "outputs": [],
   "source": []
  },
  {
   "cell_type": "code",
   "execution_count": 1,
   "id": "40fac723",
   "metadata": {},
   "outputs": [
    {
     "ename": "NameError",
     "evalue": "name 'dataset' is not defined",
     "output_type": "error",
     "traceback": [
      "\u001b[0;31m---------------------------------------------------------------------------\u001b[0m",
      "\u001b[0;31mNameError\u001b[0m                                 Traceback (most recent call last)",
      "Cell \u001b[0;32mIn[1], line 30\u001b[0m\n\u001b[1;32m     26\u001b[0m features[\u001b[38;5;124m'\u001b[39m\u001b[38;5;124mmachine\u001b[39m\u001b[38;5;124m'\u001b[39m]\u001b[38;5;241m=\u001b[39m[]\n\u001b[1;32m     27\u001b[0m features[\u001b[38;5;124m'\u001b[39m\u001b[38;5;124msubsystem\u001b[39m\u001b[38;5;124m'\u001b[39m]\u001b[38;5;241m=\u001b[39m[]\n\u001b[0;32m---> 30\u001b[0m \u001b[38;5;28;01mfor\u001b[39;00m data \u001b[38;5;129;01min\u001b[39;00m \u001b[43mdataset\u001b[49m:\n\u001b[1;32m     32\u001b[0m     \u001b[38;5;28;01mif\u001b[39;00m data[\u001b[38;5;124m'\u001b[39m\u001b[38;5;124mlabel\u001b[39m\u001b[38;5;124m'\u001b[39m] \u001b[38;5;241m==\u001b[39m \u001b[38;5;241m-\u001b[39m\u001b[38;5;241m1\u001b[39m:\n\u001b[1;32m     33\u001b[0m         \u001b[38;5;28;01mcontinue\u001b[39;00m\n",
      "\u001b[0;31mNameError\u001b[0m: name 'dataset' is not defined"
     ]
    }
   ],
   "source": [
    "\n",
    "features= {}\n",
    "features['label']=[]\n",
    "\n",
    "def extract_features(feature, feature_name):\n",
    "    global features\n",
    "    \n",
    "    for key, value in feature.items(): \n",
    "        \n",
    "        string_name = feature_name + '' + key\n",
    "        if string_name not in features:\n",
    "            features[string_name]= []\n",
    "        \n",
    "        if isinstance(value, int) or isinstance(value, float):\n",
    "            features[string_name].append(value)\n",
    "        else:\n",
    "            features[string_name].append(None)\n",
    "    \n",
    "\n",
    "section_names = ['.text', '.data', '.rsrc']\n",
    "feature_names = ['size', 'entropy', 'vsize']\n",
    "\n",
    "for section in section_names:\n",
    "    for feature in feature_names:\n",
    "        features[section + feature] = []\n",
    "\n",
    "features['machine']=[]\n",
    "features['subsystem']=[]\n",
    "\n",
    "\n",
    "for data in dataset:\n",
    "    \n",
    "    if data['label'] == -1:\n",
    "        continue\n",
    "\n",
    "#     val1, val2, val3=0,0,0\n",
    "    section_count_list = {'.text':0, '.data':0, '.rsrc':0}\n",
    "    for item in data['section']['sections']:\n",
    "        \n",
    "        if item['name'] in section_names:\n",
    "            section_count_list[item['name']]+=1\n",
    "    \n",
    "    check = False\n",
    "    for key,value in section_count_list.items():\n",
    "        if value!=1:\n",
    "            check=True\n",
    "            break\n",
    "    \n",
    "    if check:\n",
    "        continue\n",
    "        \n",
    "    feature_names = ['size', 'entropy', 'vsize']\n",
    "        \n",
    "    for item in data['section']['sections']:\n",
    "\n",
    "        if item['name'] in section_names:\n",
    "            \n",
    "            for feature in feature_names:\n",
    "                val = item[feature] if item[feature]!=None else None\n",
    "                features[item['name'] + feature].append(val)\n",
    "    \n",
    "    feature_names = ['general', 'strings']\n",
    "\n",
    "    for feature in feature_names:\n",
    "        extract_features(data[feature], feature)\n",
    "\n",
    "    for item in data['header']:\n",
    "        extract_features(data['header'][item], item)\n",
    "        \n",
    "    features['machine'].append(data['header']['coff']['machine'])\n",
    "    features['subsystem'].append(data['header']['optional']['subsystem'])\n",
    "    \n",
    "    \n",
    "    features['label'].append(data['label'])\n",
    "\n",
    "df = pd.DataFrame(features)\n",
    "print(df['label'].value_counts())\n"
   ]
  },
  {
   "cell_type": "markdown",
   "id": "2a6b8b87",
   "metadata": {},
   "source": []
  },
  {
   "cell_type": "code",
   "execution_count": null,
   "id": "a57b8509",
   "metadata": {},
   "outputs": [],
   "source": [
    "print(df.isnull().any())"
   ]
  },
  {
   "cell_type": "code",
   "execution_count": null,
   "id": "415e86e7",
   "metadata": {},
   "outputs": [],
   "source": [
    "df.dropna(how='all', axis=1, inplace=True)"
   ]
  },
  {
   "cell_type": "code",
   "execution_count": null,
   "id": "14a58cb2",
   "metadata": {},
   "outputs": [],
   "source": [
    "print(df.info())"
   ]
  },
  {
   "cell_type": "code",
   "execution_count": null,
   "id": "cbda32b3",
   "metadata": {},
   "outputs": [],
   "source": []
  },
  {
   "cell_type": "code",
   "execution_count": null,
   "id": "8db29eea",
   "metadata": {},
   "outputs": [],
   "source": []
  },
  {
   "cell_type": "code",
   "execution_count": null,
   "id": "27c5ab84",
   "metadata": {},
   "outputs": [],
   "source": [
    "\n",
    "columns_to_encode = ['machine', 'subsystem']\n",
    "\n",
    "for column in columns_to_encode:\n",
    "\n",
    "    encoder = LabelEncoder()\n",
    "    df[column] = encoder.fit_transform(df[column])\n",
    "\n",
    "print(df.info())"
   ]
  },
  {
   "cell_type": "code",
   "execution_count": null,
   "id": "e74f3631",
   "metadata": {},
   "outputs": [],
   "source": [
    "print(df.var())"
   ]
  },
  {
   "cell_type": "code",
   "execution_count": null,
   "id": "5e404bd0",
   "metadata": {},
   "outputs": [],
   "source": []
  },
  {
   "cell_type": "code",
   "execution_count": null,
   "id": "1a594039",
   "metadata": {},
   "outputs": [],
   "source": [
    "\n",
    "import seaborn as sns\n",
    "import matplotlib.pyplot as plt\n",
    "for column in df.columns:\n",
    "    sns.boxplot(df[column])\n",
    "    plt.title(f'Distribution of {column}')\n",
    "    plt.show()"
   ]
  },
  {
   "cell_type": "code",
   "execution_count": null,
   "id": "f6cec252",
   "metadata": {},
   "outputs": [],
   "source": []
  },
  {
   "cell_type": "code",
   "execution_count": null,
   "id": "08a6deed",
   "metadata": {},
   "outputs": [],
   "source": [
    "# Columns to exclude from standardization\n",
    "exclude_columns= [\n",
    "\"machine\", \"subsystem\", \"label\"\n",
    "]\n",
    "\n",
    "df_standardized = df.copy()\n",
    "\n",
    "scaler = StandardScaler()\n",
    "\n",
    "for column in df.columns:\n",
    "    if column not in exclude_columns:\n",
    "        # Standardize the column\n",
    "        df_standardized[column] = scaler.fit_transform(df[column].values.reshape(-1, 1))\n",
    "\n",
    "print(df_standardized)"
   ]
  },
  {
   "cell_type": "code",
   "execution_count": null,
   "id": "eda58121",
   "metadata": {},
   "outputs": [],
   "source": [
    "# df_standardized.to_csv('ember_data.csv')"
   ]
  },
  {
   "cell_type": "code",
   "execution_count": null,
   "id": "734e8177",
   "metadata": {},
   "outputs": [],
   "source": [
    "print(df_standardized['label'].nunique())"
   ]
  },
  {
   "cell_type": "code",
   "execution_count": null,
   "id": "0c6a0812",
   "metadata": {},
   "outputs": [],
   "source": [
    "# Get the count of each unique value\n",
    "value_counts = y.value_counts()\n",
    "\n",
    "# Retrieve the count of the specific value\n",
    "c1 = value_counts.get(1, 0)\n",
    "c2 = value_counts.get(0, 0)\n",
    "\n",
    "# Print the result\n",
    "print(\"Count of\", 1, \"in column:\", c1, c2)"
   ]
  },
  {
   "cell_type": "code",
   "execution_count": null,
   "id": "506a6c4a",
   "metadata": {},
   "outputs": [],
   "source": [
    "y = df['label']\n",
    "\n",
    "X = df.drop('label', axis=1)\n"
   ]
  },
  {
   "cell_type": "code",
   "execution_count": null,
   "id": "bc032ea5",
   "metadata": {},
   "outputs": [],
   "source": [
    "from sklearn.model_selection import train_test_split\n",
    "\n",
    "X_train, X_test, y_train, y_test = train_test_split(X, y, test_size=0.2, random_state=42)\n"
   ]
  },
  {
   "cell_type": "code",
   "execution_count": null,
   "id": "69804f7a",
   "metadata": {},
   "outputs": [],
   "source": []
  },
  {
   "cell_type": "code",
   "execution_count": null,
   "id": "4bca04e1",
   "metadata": {
    "scrolled": true
   },
   "outputs": [],
   "source": []
  },
  {
   "cell_type": "code",
   "execution_count": null,
   "id": "3c80a6e3",
   "metadata": {},
   "outputs": [],
   "source": [
    "from sklearn.ensemble import RandomForestClassifier\n",
    "from sklearn.metrics import accuracy_score, confusion_matrix, precision_score, recall_score, ConfusionMatrixDisplay\n",
    "from sklearn.model_selection import RandomizedSearchCV, train_test_split\n",
    "from scipy.stats import randint\n",
    "rf = RandomForestClassifier()\n",
    "\n",
    "rf.fit(X_train, y_train)"
   ]
  },
  {
   "cell_type": "code",
   "execution_count": null,
   "id": "e0922fe2",
   "metadata": {},
   "outputs": [],
   "source": [
    "y_pred = rf.predict(X_test)\n",
    "accuracy = accuracy_score(y_test, y_pred)\n",
    "print(\"Accuracy:\", accuracy)"
   ]
  },
  {
   "cell_type": "code",
   "execution_count": null,
   "id": "baf0fff1",
   "metadata": {},
   "outputs": [],
   "source": []
  }
 ],
 "metadata": {
  "kernelspec": {
   "display_name": "Python 3 (ipykernel)",
   "language": "python",
   "name": "python3"
  },
  "language_info": {
   "codemirror_mode": {
    "name": "ipython",
    "version": 3
   },
   "file_extension": ".py",
   "mimetype": "text/x-python",
   "name": "python",
   "nbconvert_exporter": "python",
   "pygments_lexer": "ipython3",
   "version": "3.10.10"
  }
 },
 "nbformat": 4,
 "nbformat_minor": 5
}
